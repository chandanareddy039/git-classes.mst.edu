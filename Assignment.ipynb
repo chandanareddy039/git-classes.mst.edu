{
 "cells": [
  {
   "cell_type": "code",
   "execution_count": 5,
   "id": "f34a566f",
   "metadata": {},
   "outputs": [],
   "source": [
    "import pandas as pd\n",
    "for i,file in enumerate(pd.read_csv('dataset.csv', chunksize=100000)):  \n",
    "    file.to_csv('data/file{}.csv'.format(i), index=False)\n",
    "ln = i\n"
   ]
  },
  {
   "cell_type": "code",
   "execution_count": 6,
   "id": "9d6cc045",
   "metadata": {},
   "outputs": [
    {
     "name": "stdout",
     "output_type": "stream",
     "text": [
      "[224025, 38180] 77596.0 [355, 2629, 357, 364, 2633] A humble young monk and a magical, shape-changing fox find themselves romantically drawn together. As their love blooms, the fox learns of a devilish plot by a group of demons and a Japanese emperor to steal the monk's life. One of the most popular and critically acclaimed graphic novels of all time, Neil Gaiman's award-winning masterpiece The Sandman set the standard for mature, lyrical fantasy in the modern comics era. Illustrated by an exemplary selection of the medium's most gifted artists, the series is a rich blend of modern and ancient mythology in which contemporary fiction, historical drama, and legend are seamlessly interwoven. In The Dream Hunters, Gaiman and acclaimed artist Yoshitaka Amano collaborate to reveal a haunting new aspect of the Dream King. Words and paintings combine in this illuminated fable of ancient Japan, spinning an ageless story of a humble young monk and the magical fox who falls in love with him. Threatened by a dark prophecy, the fox and the monk each call for aid from the Mikado of All Night's Dreaming, whose intervention transports their tale of love and sacrifice into the immortal realm of the Endless. The Sandman: Dream Hunters 30th Anniversary Edition (Prose Version) collects Neil Gaiman's original prose novella illustrated by Yoshitaka Amano. 168.0 259.0 10.16 nan 30th Anniversary, Prose ed. nan 1.0 9781401294090 nan d03e046fadd68b050cd9f71bceebc975 full/0/c/d/0cd3b53cb200af402f80ef037a081ee8467816dd.jpg https://d1w7fb2mkkr3kw.cloudfront.net/assets/images/book/mid/9781/4012/9781401294090.jpg nan nan 140129409X 9781401294090 en 2019-09-10 00:00:00 nan 4.4 18749.0 Sandman: Dream Hunters 30th Anniversary Edition: Prose Version /Sandman-Dream-Hunters-30th-Anniversary-Edition-Prose-Version-Neil-Gaiman/9781401294090 249.48\n",
      "\n",
      "\n",
      "\n",
      "\n",
      "authors                                                 [227390, 97971]\n",
      "bestsellers-rank                                              2199582.0\n",
      "categories                                                        [329]\n",
      "description           This is a business English course for adults a...\n",
      "dimension-x                                                       215.0\n",
      "dimension-y                                                       280.0\n",
      "dimension-z                                                         7.0\n",
      "edition                                                             NaN\n",
      "edition-statement                                                   NaN\n",
      "for-ages                                                            NaN\n",
      "format                                                              1.0\n",
      "id                                                        9780230433250\n",
      "illustrations-note                                                  NaN\n",
      "image-checksum                         7113b87a20901a452e26ec00307857de\n",
      "image-path            full/5/d/2/5d2b2f29433d97b3dc0388678fd44ce6569...\n",
      "image-url             https://d1w7fb2mkkr3kw.cloudfront.net/assets/i...\n",
      "imprint                                                             NaN\n",
      "index-date                                                          NaN\n",
      "isbn10                                                        230433251\n",
      "isbn13                                                    9780230433250\n",
      "lang                                                                 en\n",
      "publication-date                                    2013-05-17 00:00:00\n",
      "publication-place                                                   NaN\n",
      "rating-avg                                                         4.27\n",
      "rating-count                                                       11.0\n",
      "title                 Get Ready For International Business 1 Student...\n",
      "url                   /Get-Ready-For-International-Business-1-Studen...\n",
      "weight                                                            385.0\n",
      "Name: 99999, dtype: object\n",
      "--- 40.63980555534363 seconds ---\n"
     ]
    }
   ],
   "source": [
    "import time\n",
    "start_time = time.time()\n",
    "found = False\n",
    "for i in range(ln):\n",
    "    f=pd.read_csv('data/file{}.csv'.format(i))\n",
    "    ###Merge Sort\n",
    "    f.sort_values(by=['title'],kind='mergesort')\n",
    "    ###Linear Search\n",
    "    for ind,row in enumerate(f.values):\n",
    "#     ind = linearSearch(f.values,\"Sandman: Dream Hunters 30th Anniversary Edition: Prose Version\")\n",
    "        if row[25]==\"Sandman: Dream Hunters 30th Anniversary Edition: Prose Version\":\n",
    "            print(*row)\n",
    "            break\n",
    "    if found:\n",
    "        break\n",
    "\n",
    "print(\"\\n\\n\\n\")\n",
    "###Hash Index\n",
    "print(f.loc[f.index[ind]])\n",
    "\n",
    "    \n",
    "\n",
    "# chunk.sort_values(by=['title'],kind='mergesort')\n",
    "print(\"--- %s seconds ---\" % (time.time() - start_time))\n"
   ]
  },
  {
   "cell_type": "code",
   "execution_count": null,
   "id": "6f330185",
   "metadata": {},
   "outputs": [],
   "source": []
  }
 ],
 "metadata": {
  "kernelspec": {
   "display_name": "Python 3 (ipykernel)",
   "language": "python",
   "name": "python3"
  },
  "language_info": {
   "codemirror_mode": {
    "name": "ipython",
    "version": 3
   },
   "file_extension": ".py",
   "mimetype": "text/x-python",
   "name": "python",
   "nbconvert_exporter": "python",
   "pygments_lexer": "ipython3",
   "version": "3.9.7"
  }
 },
 "nbformat": 4,
 "nbformat_minor": 5
}
